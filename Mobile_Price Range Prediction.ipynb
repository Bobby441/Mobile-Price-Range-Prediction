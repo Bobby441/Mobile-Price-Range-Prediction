{
 "cells": [
  {
   "cell_type": "markdown",
   "metadata": {
    "id": "ZrQHTJ1oxfk3"
   },
   "source": [
    "# **MOBILE PRICE RANGE PREDICTION**"
   ]
  },
  {
   "cell_type": "code",
   "execution_count": null,
   "metadata": {
    "id": "ZNQFRCl2aHUN"
   },
   "outputs": [],
   "source": [
    "#Reading the CSV File"
   ]
  },
  {
   "cell_type": "code",
   "execution_count": null,
   "metadata": {
    "id": "GyDTG5_kxdG0"
   },
   "outputs": [],
   "source": [
    "import pandas as pd\n",
    "import numpy as np\n",
    "import matplotlib.pyplot as plt\n"
   ]
  },
  {
   "cell_type": "code",
   "execution_count": null,
   "metadata": {
    "colab": {
     "base_uri": "https://localhost:8080/"
    },
    "executionInfo": {
     "elapsed": 29797,
     "status": "ok",
     "timestamp": 1651410214749,
     "user": {
      "displayName": "Moru Sai tirupathi",
      "userId": "08456069028187693579"
     },
     "user_tz": -330
    },
    "id": "98xrrTy_x7Vy",
    "outputId": "47456c4c-41c7-45b0-83b4-654b624d7df7"
   },
   "outputs": [
    {
     "name": "stdout",
     "output_type": "stream",
     "text": [
      "Mounted at /content/drive\n"
     ]
    }
   ],
   "source": [
    "from google.colab import drive\n",
    "\n",
    "drive.mount('/content/drive')"
   ]
  },
  {
   "cell_type": "code",
   "execution_count": null,
   "metadata": {
    "colab": {
     "base_uri": "https://localhost:8080/",
     "height": 299
    },
    "executionInfo": {
     "elapsed": 12,
     "status": "ok",
     "timestamp": 1651410214750,
     "user": {
      "displayName": "Moru Sai tirupathi",
      "userId": "08456069028187693579"
     },
     "user_tz": -330
    },
    "id": "I15aD7jfx-8A",
    "outputId": "f668a487-5537-4206-b27a-d74957ffff07"
   },
   "outputs": [
    {
     "data": {
      "text/html": [
       "\n",
       "  <div id=\"df-a1065b6c-c383-448e-97d7-12a71b224e78\">\n",
       "    <div class=\"colab-df-container\">\n",
       "      <div>\n",
       "<style scoped>\n",
       "    .dataframe tbody tr th:only-of-type {\n",
       "        vertical-align: middle;\n",
       "    }\n",
       "\n",
       "    .dataframe tbody tr th {\n",
       "        vertical-align: top;\n",
       "    }\n",
       "\n",
       "    .dataframe thead th {\n",
       "        text-align: right;\n",
       "    }\n",
       "</style>\n",
       "<table border=\"1\" class=\"dataframe\">\n",
       "  <thead>\n",
       "    <tr style=\"text-align: right;\">\n",
       "      <th></th>\n",
       "      <th>battery_power</th>\n",
       "      <th>blue</th>\n",
       "      <th>clock_speed</th>\n",
       "      <th>dual_sim</th>\n",
       "      <th>fc</th>\n",
       "      <th>four_g</th>\n",
       "      <th>int_memory</th>\n",
       "      <th>m_dep</th>\n",
       "      <th>mobile_wt</th>\n",
       "      <th>n_cores</th>\n",
       "      <th>...</th>\n",
       "      <th>px_height</th>\n",
       "      <th>px_width</th>\n",
       "      <th>ram</th>\n",
       "      <th>sc_h</th>\n",
       "      <th>sc_w</th>\n",
       "      <th>talk_time</th>\n",
       "      <th>three_g</th>\n",
       "      <th>touch_screen</th>\n",
       "      <th>wifi</th>\n",
       "      <th>price_range</th>\n",
       "    </tr>\n",
       "  </thead>\n",
       "  <tbody>\n",
       "    <tr>\n",
       "      <th>0</th>\n",
       "      <td>842</td>\n",
       "      <td>0</td>\n",
       "      <td>2.2</td>\n",
       "      <td>0</td>\n",
       "      <td>1</td>\n",
       "      <td>0</td>\n",
       "      <td>7</td>\n",
       "      <td>0.6</td>\n",
       "      <td>188</td>\n",
       "      <td>2</td>\n",
       "      <td>...</td>\n",
       "      <td>20</td>\n",
       "      <td>756</td>\n",
       "      <td>2549</td>\n",
       "      <td>9</td>\n",
       "      <td>7</td>\n",
       "      <td>19</td>\n",
       "      <td>0</td>\n",
       "      <td>0</td>\n",
       "      <td>1</td>\n",
       "      <td>1</td>\n",
       "    </tr>\n",
       "    <tr>\n",
       "      <th>1</th>\n",
       "      <td>1021</td>\n",
       "      <td>1</td>\n",
       "      <td>0.5</td>\n",
       "      <td>1</td>\n",
       "      <td>0</td>\n",
       "      <td>1</td>\n",
       "      <td>53</td>\n",
       "      <td>0.7</td>\n",
       "      <td>136</td>\n",
       "      <td>3</td>\n",
       "      <td>...</td>\n",
       "      <td>905</td>\n",
       "      <td>1988</td>\n",
       "      <td>2631</td>\n",
       "      <td>17</td>\n",
       "      <td>3</td>\n",
       "      <td>7</td>\n",
       "      <td>1</td>\n",
       "      <td>1</td>\n",
       "      <td>0</td>\n",
       "      <td>2</td>\n",
       "    </tr>\n",
       "    <tr>\n",
       "      <th>2</th>\n",
       "      <td>563</td>\n",
       "      <td>1</td>\n",
       "      <td>0.5</td>\n",
       "      <td>1</td>\n",
       "      <td>2</td>\n",
       "      <td>1</td>\n",
       "      <td>41</td>\n",
       "      <td>0.9</td>\n",
       "      <td>145</td>\n",
       "      <td>5</td>\n",
       "      <td>...</td>\n",
       "      <td>1263</td>\n",
       "      <td>1716</td>\n",
       "      <td>2603</td>\n",
       "      <td>11</td>\n",
       "      <td>2</td>\n",
       "      <td>9</td>\n",
       "      <td>1</td>\n",
       "      <td>1</td>\n",
       "      <td>0</td>\n",
       "      <td>2</td>\n",
       "    </tr>\n",
       "    <tr>\n",
       "      <th>3</th>\n",
       "      <td>615</td>\n",
       "      <td>1</td>\n",
       "      <td>2.5</td>\n",
       "      <td>0</td>\n",
       "      <td>0</td>\n",
       "      <td>0</td>\n",
       "      <td>10</td>\n",
       "      <td>0.8</td>\n",
       "      <td>131</td>\n",
       "      <td>6</td>\n",
       "      <td>...</td>\n",
       "      <td>1216</td>\n",
       "      <td>1786</td>\n",
       "      <td>2769</td>\n",
       "      <td>16</td>\n",
       "      <td>8</td>\n",
       "      <td>11</td>\n",
       "      <td>1</td>\n",
       "      <td>0</td>\n",
       "      <td>0</td>\n",
       "      <td>2</td>\n",
       "    </tr>\n",
       "    <tr>\n",
       "      <th>4</th>\n",
       "      <td>1821</td>\n",
       "      <td>1</td>\n",
       "      <td>1.2</td>\n",
       "      <td>0</td>\n",
       "      <td>13</td>\n",
       "      <td>1</td>\n",
       "      <td>44</td>\n",
       "      <td>0.6</td>\n",
       "      <td>141</td>\n",
       "      <td>2</td>\n",
       "      <td>...</td>\n",
       "      <td>1208</td>\n",
       "      <td>1212</td>\n",
       "      <td>1411</td>\n",
       "      <td>8</td>\n",
       "      <td>2</td>\n",
       "      <td>15</td>\n",
       "      <td>1</td>\n",
       "      <td>1</td>\n",
       "      <td>0</td>\n",
       "      <td>1</td>\n",
       "    </tr>\n",
       "  </tbody>\n",
       "</table>\n",
       "<p>5 rows × 21 columns</p>\n",
       "</div>\n",
       "      <button class=\"colab-df-convert\" onclick=\"convertToInteractive('df-a1065b6c-c383-448e-97d7-12a71b224e78')\"\n",
       "              title=\"Convert this dataframe to an interactive table.\"\n",
       "              style=\"display:none;\">\n",
       "        \n",
       "  <svg xmlns=\"http://www.w3.org/2000/svg\" height=\"24px\"viewBox=\"0 0 24 24\"\n",
       "       width=\"24px\">\n",
       "    <path d=\"M0 0h24v24H0V0z\" fill=\"none\"/>\n",
       "    <path d=\"M18.56 5.44l.94 2.06.94-2.06 2.06-.94-2.06-.94-.94-2.06-.94 2.06-2.06.94zm-11 1L8.5 8.5l.94-2.06 2.06-.94-2.06-.94L8.5 2.5l-.94 2.06-2.06.94zm10 10l.94 2.06.94-2.06 2.06-.94-2.06-.94-.94-2.06-.94 2.06-2.06.94z\"/><path d=\"M17.41 7.96l-1.37-1.37c-.4-.4-.92-.59-1.43-.59-.52 0-1.04.2-1.43.59L10.3 9.45l-7.72 7.72c-.78.78-.78 2.05 0 2.83L4 21.41c.39.39.9.59 1.41.59.51 0 1.02-.2 1.41-.59l7.78-7.78 2.81-2.81c.8-.78.8-2.07 0-2.86zM5.41 20L4 18.59l7.72-7.72 1.47 1.35L5.41 20z\"/>\n",
       "  </svg>\n",
       "      </button>\n",
       "      \n",
       "  <style>\n",
       "    .colab-df-container {\n",
       "      display:flex;\n",
       "      flex-wrap:wrap;\n",
       "      gap: 12px;\n",
       "    }\n",
       "\n",
       "    .colab-df-convert {\n",
       "      background-color: #E8F0FE;\n",
       "      border: none;\n",
       "      border-radius: 50%;\n",
       "      cursor: pointer;\n",
       "      display: none;\n",
       "      fill: #1967D2;\n",
       "      height: 32px;\n",
       "      padding: 0 0 0 0;\n",
       "      width: 32px;\n",
       "    }\n",
       "\n",
       "    .colab-df-convert:hover {\n",
       "      background-color: #E2EBFA;\n",
       "      box-shadow: 0px 1px 2px rgba(60, 64, 67, 0.3), 0px 1px 3px 1px rgba(60, 64, 67, 0.15);\n",
       "      fill: #174EA6;\n",
       "    }\n",
       "\n",
       "    [theme=dark] .colab-df-convert {\n",
       "      background-color: #3B4455;\n",
       "      fill: #D2E3FC;\n",
       "    }\n",
       "\n",
       "    [theme=dark] .colab-df-convert:hover {\n",
       "      background-color: #434B5C;\n",
       "      box-shadow: 0px 1px 3px 1px rgba(0, 0, 0, 0.15);\n",
       "      filter: drop-shadow(0px 1px 2px rgba(0, 0, 0, 0.3));\n",
       "      fill: #FFFFFF;\n",
       "    }\n",
       "  </style>\n",
       "\n",
       "      <script>\n",
       "        const buttonEl =\n",
       "          document.querySelector('#df-a1065b6c-c383-448e-97d7-12a71b224e78 button.colab-df-convert');\n",
       "        buttonEl.style.display =\n",
       "          google.colab.kernel.accessAllowed ? 'block' : 'none';\n",
       "\n",
       "        async function convertToInteractive(key) {\n",
       "          const element = document.querySelector('#df-a1065b6c-c383-448e-97d7-12a71b224e78');\n",
       "          const dataTable =\n",
       "            await google.colab.kernel.invokeFunction('convertToInteractive',\n",
       "                                                     [key], {});\n",
       "          if (!dataTable) return;\n",
       "\n",
       "          const docLinkHtml = 'Like what you see? Visit the ' +\n",
       "            '<a target=\"_blank\" href=https://colab.research.google.com/notebooks/data_table.ipynb>data table notebook</a>'\n",
       "            + ' to learn more about interactive tables.';\n",
       "          element.innerHTML = '';\n",
       "          dataTable['output_type'] = 'display_data';\n",
       "          await google.colab.output.renderOutput(dataTable, element);\n",
       "          const docLink = document.createElement('div');\n",
       "          docLink.innerHTML = docLinkHtml;\n",
       "          element.appendChild(docLink);\n",
       "        }\n",
       "      </script>\n",
       "    </div>\n",
       "  </div>\n",
       "  "
      ],
      "text/plain": [
       "   battery_power  blue  clock_speed  dual_sim  fc  four_g  int_memory  m_dep  \\\n",
       "0            842     0          2.2         0   1       0           7    0.6   \n",
       "1           1021     1          0.5         1   0       1          53    0.7   \n",
       "2            563     1          0.5         1   2       1          41    0.9   \n",
       "3            615     1          2.5         0   0       0          10    0.8   \n",
       "4           1821     1          1.2         0  13       1          44    0.6   \n",
       "\n",
       "   mobile_wt  n_cores  ...  px_height  px_width   ram  sc_h  sc_w  talk_time  \\\n",
       "0        188        2  ...         20       756  2549     9     7         19   \n",
       "1        136        3  ...        905      1988  2631    17     3          7   \n",
       "2        145        5  ...       1263      1716  2603    11     2          9   \n",
       "3        131        6  ...       1216      1786  2769    16     8         11   \n",
       "4        141        2  ...       1208      1212  1411     8     2         15   \n",
       "\n",
       "   three_g  touch_screen  wifi  price_range  \n",
       "0        0             0     1            1  \n",
       "1        1             1     0            2  \n",
       "2        1             1     0            2  \n",
       "3        1             0     0            2  \n",
       "4        1             1     0            1  \n",
       "\n",
       "[5 rows x 21 columns]"
      ]
     },
     "execution_count": 4,
     "metadata": {},
     "output_type": "execute_result"
    }
   ],
   "source": [
    "df = pd.read_csv('/content/drive/My Drive/mobile_price_range_data.csv')\n",
    "df.head()"
   ]
  },
  {
   "cell_type": "code",
   "execution_count": null,
   "metadata": {
    "id": "yg-fxqaYaNhb"
   },
   "outputs": [],
   "source": [
    "#Finding For Null Values"
   ]
  },
  {
   "cell_type": "code",
   "execution_count": null,
   "metadata": {
    "colab": {
     "base_uri": "https://localhost:8080/"
    },
    "executionInfo": {
     "elapsed": 11,
     "status": "ok",
     "timestamp": 1651410214751,
     "user": {
      "displayName": "Moru Sai tirupathi",
      "userId": "08456069028187693579"
     },
     "user_tz": -330
    },
    "id": "_bC3xUN4yGwU",
    "outputId": "066672a3-816c-4b75-af27-502c04cc350d"
   },
   "outputs": [
    {
     "data": {
      "text/plain": [
       "battery_power    0\n",
       "blue             0\n",
       "clock_speed      0\n",
       "dual_sim         0\n",
       "fc               0\n",
       "four_g           0\n",
       "int_memory       0\n",
       "m_dep            0\n",
       "mobile_wt        0\n",
       "n_cores          0\n",
       "pc               0\n",
       "px_height        0\n",
       "px_width         0\n",
       "ram              0\n",
       "sc_h             0\n",
       "sc_w             0\n",
       "talk_time        0\n",
       "three_g          0\n",
       "touch_screen     0\n",
       "wifi             0\n",
       "price_range      0\n",
       "dtype: int64"
      ]
     },
     "execution_count": 6,
     "metadata": {},
     "output_type": "execute_result"
    }
   ],
   "source": [
    "df.isnull().sum()"
   ]
  },
  {
   "cell_type": "code",
   "execution_count": null,
   "metadata": {
    "colab": {
     "base_uri": "https://localhost:8080/"
    },
    "executionInfo": {
     "elapsed": 9,
     "status": "ok",
     "timestamp": 1651410214751,
     "user": {
      "displayName": "Moru Sai tirupathi",
      "userId": "08456069028187693579"
     },
     "user_tz": -330
    },
    "id": "Z_INVA4PyKSo",
    "outputId": "8774dc38-e038-49e6-9528-663516d579e7"
   },
   "outputs": [
    {
     "data": {
      "text/plain": [
       "battery_power      int64\n",
       "blue               int64\n",
       "clock_speed      float64\n",
       "dual_sim           int64\n",
       "fc                 int64\n",
       "four_g             int64\n",
       "int_memory         int64\n",
       "m_dep            float64\n",
       "mobile_wt          int64\n",
       "n_cores            int64\n",
       "pc                 int64\n",
       "px_height          int64\n",
       "px_width           int64\n",
       "ram                int64\n",
       "sc_h               int64\n",
       "sc_w               int64\n",
       "talk_time          int64\n",
       "three_g            int64\n",
       "touch_screen       int64\n",
       "wifi               int64\n",
       "price_range        int64\n",
       "dtype: object"
      ]
     },
     "execution_count": 7,
     "metadata": {},
     "output_type": "execute_result"
    }
   ],
   "source": [
    "df.dtypes"
   ]
  },
  {
   "cell_type": "code",
   "execution_count": null,
   "metadata": {
    "colab": {
     "base_uri": "https://localhost:8080/"
    },
    "executionInfo": {
     "elapsed": 8,
     "status": "ok",
     "timestamp": 1651410214752,
     "user": {
      "displayName": "Moru Sai tirupathi",
      "userId": "08456069028187693579"
     },
     "user_tz": -330
    },
    "id": "KxelkH6ryMj2",
    "outputId": "b6453fd2-7e7c-4814-ef86-62c5a5e57853"
   },
   "outputs": [
    {
     "name": "stdout",
     "output_type": "stream",
     "text": [
      "(2000, 20)\n",
      "(2000,)\n",
      "<class 'pandas.core.frame.DataFrame'>\n",
      "<class 'pandas.core.frame.DataFrame'>\n"
     ]
    }
   ],
   "source": [
    "x = df.iloc[:,:-1]\n",
    "y= df.iloc[:,-1]\n",
    "print(x.shape)\n",
    "print(y.shape)\n",
    "print(type(x))\n",
    "print(type(x))"
   ]
  },
  {
   "cell_type": "code",
   "execution_count": null,
   "metadata": {
    "id": "9R125WtQaUrL"
   },
   "outputs": [],
   "source": [
    "#spliting the data into trainig and testing data"
   ]
  },
  {
   "cell_type": "code",
   "execution_count": null,
   "metadata": {
    "id": "v8yig5iGykD7"
   },
   "outputs": [],
   "source": [
    "from sklearn.model_selection import train_test_split"
   ]
  },
  {
   "cell_type": "code",
   "execution_count": null,
   "metadata": {
    "colab": {
     "base_uri": "https://localhost:8080/"
    },
    "executionInfo": {
     "elapsed": 14,
     "status": "ok",
     "timestamp": 1651410215727,
     "user": {
      "displayName": "Moru Sai tirupathi",
      "userId": "08456069028187693579"
     },
     "user_tz": -330
    },
    "id": "khl2_TMfyvUt",
    "outputId": "8b2502d1-abe4-44b8-fb39-67894b0c1ff8"
   },
   "outputs": [
    {
     "name": "stdout",
     "output_type": "stream",
     "text": [
      "(1500, 20)\n",
      "(500, 20)\n",
      "(1500,)\n",
      "(500,)\n"
     ]
    }
   ],
   "source": [
    "x_tr,x_te,y_tr,y_te = train_test_split(x,y,test_size=0.25)\n",
    "print(x_tr.shape)\n",
    "print(x_te.shape)\n",
    "print(y_tr.shape)\n",
    "print(y_te.shape)"
   ]
  },
  {
   "cell_type": "markdown",
   "metadata": {
    "id": "f_04TfcoahSn"
   },
   "source": [
    "# a) LOGISTIC REGRESSION ALGORITHM\n",
    "\n",
    "\n",
    "\n"
   ]
  },
  {
   "cell_type": "code",
   "execution_count": null,
   "metadata": {
    "id": "ERvnBNRGzGge"
   },
   "outputs": [],
   "source": [
    "from sklearn.linear_model import LogisticRegression"
   ]
  },
  {
   "cell_type": "code",
   "execution_count": null,
   "metadata": {
    "colab": {
     "base_uri": "https://localhost:8080/"
    },
    "executionInfo": {
     "elapsed": 12,
     "status": "ok",
     "timestamp": 1651410215728,
     "user": {
      "displayName": "Moru Sai tirupathi",
      "userId": "08456069028187693579"
     },
     "user_tz": -330
    },
    "id": "BfBxDs_5ayO5",
    "outputId": "faaac193-898b-41bf-c222-d8e59787dbae"
   },
   "outputs": [
    {
     "data": {
      "text/plain": [
       "LogisticRegression(solver='liblinear')"
      ]
     },
     "execution_count": 13,
     "metadata": {},
     "output_type": "execute_result"
    }
   ],
   "source": [
    "m1=LogisticRegression(solver='liblinear')\n",
    "m1.fit(x_tr,y_tr)\n"
   ]
  },
  {
   "cell_type": "code",
   "execution_count": null,
   "metadata": {
    "colab": {
     "base_uri": "https://localhost:8080/"
    },
    "executionInfo": {
     "elapsed": 10,
     "status": "ok",
     "timestamp": 1651410215728,
     "user": {
      "displayName": "Moru Sai tirupathi",
      "userId": "08456069028187693579"
     },
     "user_tz": -330
    },
    "id": "FLVLe_kva1Uv",
    "outputId": "b46597c4-1d28-4423-ce56-b6f7e67201d4"
   },
   "outputs": [
    {
     "name": "stdout",
     "output_type": "stream",
     "text": [
      "Training Score 0.7946666666666666\n",
      "Testing Score 0.756\n"
     ]
    }
   ],
   "source": [
    "print('Training Score',m1.score(x_tr,y_tr))\n",
    "print('Testing Score',m1.score(x_te,y_te))"
   ]
  },
  {
   "cell_type": "code",
   "execution_count": null,
   "metadata": {
    "colab": {
     "base_uri": "https://localhost:8080/"
    },
    "executionInfo": {
     "elapsed": 10,
     "status": "ok",
     "timestamp": 1651410215729,
     "user": {
      "displayName": "Moru Sai tirupathi",
      "userId": "08456069028187693579"
     },
     "user_tz": -330
    },
    "id": "OampqNIga3_t",
    "outputId": "5c748e1f-1d79-43a0-a2fd-65618af7442d"
   },
   "outputs": [
    {
     "name": "stdout",
     "output_type": "stream",
     "text": [
      "[3 0 1 1 0 3 3 2 1 2 3 1 1 3 1 0 1 0 0 3 1 0 3 2 2 3 3 1 2 0 3 0 0 3 1 0 3\n",
      " 3 1 0 0 3 1 3 1 0 3 3 1 3 3 0 1 2 3 3 3 0 2 2 0 3 2 1 0 1 2 0 1 3 3 3 2 1\n",
      " 2 0 3 1 1 2 1 3 2 1 3 3 2 2 0 2 3 2 1 3 1 1 2 1 0 2 3 3 1 0 0 1 3 3 2 3 0\n",
      " 3 1 3 0 3 0 1 2 0 0 0 2 0 1 2 0 1 1 3 3 1 3 3 3 1 2 0 1 1 2 2 0 1 0 3 0 1\n",
      " 0 0 3 0 3 2 2 0 3 3 0 1 1 1 3 0 2 0 3 2 2 0 2 0 0 3 0 1 1 1 2 0 2 3 1 2 2\n",
      " 3 3 2 0 3 1 3 3 0 0 3 1 1 0 0 0 3 0 2 1 3 3 3 1 0 3 3 3 2 2 2 3 0 0 2 3 2\n",
      " 0 0 1 2 3 3 0 1 2 2 0 3 0 2 3 1 2 2 1 0 3 2 0 0 1 1 3 1 1 3 3 2 3 3 0 0 3\n",
      " 1 2 1 3 2 1 2 0 1 2 3 3 0 1 1 1 0 3 2 1 3 3 1 2 0 0 2 3 3 3 0 0 1 1 1 0 1\n",
      " 1 1 0 3 2 1 2 0 1 1 2 1 3 1 3 3 2 3 0 3 0 0 0 2 1 1 3 0 2 0 2 0 3 0 2 3 3\n",
      " 3 0 0 3 3 0 2 3 1 0 0 1 1 1 1 2 2 0 0 3 0 3 0 2 0 2 2 1 0 3 1 3 3 2 2 1 0\n",
      " 3 2 2 1 2 0 0 2 2 2 0 1 3 0 1 1 1 3 2 2 2 2 0 2 1 2 0 2 0 3 1 2 1 3 3 3 1\n",
      " 0 3 3 2 2 2 0 3 3 2 2 2 1 1 3 3 2 0 2 0 1 0 1 1 3 3 3 1 0 2 1 0 1 0 0 2 1\n",
      " 3 0 1 3 1 3 2 0 1 3 1 2 1 3 0 2 0 1 0 3 1 2 2 0 2 1 1 3 2 2 2 3 0 1 0 2 3\n",
      " 2 0 0 3 1 2 1 1 1 0 3 2 0 3 1 0 0 0 1]\n"
     ]
    }
   ],
   "source": [
    "ypred_m1 = m1.predict(x_te)\n",
    "print(ypred_m1)"
   ]
  },
  {
   "cell_type": "code",
   "execution_count": null,
   "metadata": {
    "id": "b_BYOuntbp2_"
   },
   "outputs": [],
   "source": [
    "from sklearn.metrics import confusion_matrix,classification_report"
   ]
  },
  {
   "cell_type": "code",
   "execution_count": null,
   "metadata": {
    "colab": {
     "base_uri": "https://localhost:8080/"
    },
    "executionInfo": {
     "elapsed": 8,
     "status": "ok",
     "timestamp": 1651410215729,
     "user": {
      "displayName": "Moru Sai tirupathi",
      "userId": "08456069028187693579"
     },
     "user_tz": -330
    },
    "id": "K97S5DJGa7Z5",
    "outputId": "f84e9e2b-b177-4a1b-af7f-589cc4ac8ba8"
   },
   "outputs": [
    {
     "name": "stdout",
     "output_type": "stream",
     "text": [
      "[[104  11   1   0]\n",
      " [ 24  80  31   0]\n",
      " [  0  33  80  22]\n",
      " [  0   0   0 114]]\n",
      "              precision    recall  f1-score   support\n",
      "\n",
      "           0       0.81      0.90      0.85       116\n",
      "           1       0.65      0.59      0.62       135\n",
      "           2       0.71      0.59      0.65       135\n",
      "           3       0.84      1.00      0.91       114\n",
      "\n",
      "    accuracy                           0.76       500\n",
      "   macro avg       0.75      0.77      0.76       500\n",
      "weighted avg       0.75      0.76      0.75       500\n",
      "\n"
     ]
    }
   ],
   "source": [
    "cm_m1= confusion_matrix(y_te,ypred_m1)\n",
    "print(cm_m1)\n",
    "print(classification_report(y_te,ypred_m1,zero_division=0))"
   ]
  },
  {
   "cell_type": "markdown",
   "metadata": {
    "id": "_Xg0YUFxbyJN"
   },
   "source": [
    "# b) KNN CLASSIFICATION ALGORITHM"
   ]
  },
  {
   "cell_type": "code",
   "execution_count": null,
   "metadata": {
    "id": "QqA-vPQBcBtX"
   },
   "outputs": [],
   "source": [
    "from sklearn.neighbors import KNeighborsClassifier"
   ]
  },
  {
   "cell_type": "code",
   "execution_count": null,
   "metadata": {
    "colab": {
     "base_uri": "https://localhost:8080/"
    },
    "executionInfo": {
     "elapsed": 17,
     "status": "ok",
     "timestamp": 1651410216482,
     "user": {
      "displayName": "Moru Sai tirupathi",
      "userId": "08456069028187693579"
     },
     "user_tz": -330
    },
    "id": "IqElwNTfcBp6",
    "outputId": "b330fd6d-79d4-405a-c189-71cd3b3f89a8"
   },
   "outputs": [
    {
     "data": {
      "text/plain": [
       "KNeighborsClassifier(n_neighbors=15)"
      ]
     },
     "execution_count": 19,
     "metadata": {},
     "output_type": "execute_result"
    }
   ],
   "source": [
    "m2 = KNeighborsClassifier(n_neighbors=15)\n",
    "m2.fit(x_tr,y_tr)"
   ]
  },
  {
   "cell_type": "code",
   "execution_count": null,
   "metadata": {
    "colab": {
     "base_uri": "https://localhost:8080/"
    },
    "executionInfo": {
     "elapsed": 14,
     "status": "ok",
     "timestamp": 1651410216482,
     "user": {
      "displayName": "Moru Sai tirupathi",
      "userId": "08456069028187693579"
     },
     "user_tz": -330
    },
    "id": "WM4nK5HJcBn3",
    "outputId": "ce4d5d18-6817-4e5d-bbc4-9a0d742db1d7"
   },
   "outputs": [
    {
     "name": "stdout",
     "output_type": "stream",
     "text": [
      "[3 0 2 1 0 3 3 2 2 2 2 1 1 3 1 0 2 0 1 3 1 0 3 2 2 3 3 2 1 0 3 0 0 2 1 1 3\n",
      " 3 2 0 0 2 1 3 2 0 3 3 1 3 2 0 1 2 2 2 3 0 2 2 0 3 2 0 0 0 2 0 1 3 3 3 2 1\n",
      " 2 1 2 1 1 0 1 2 2 1 3 3 1 2 0 1 2 2 2 3 0 2 2 1 0 2 3 3 1 1 0 2 2 3 2 3 1\n",
      " 2 1 3 0 3 0 1 2 1 0 0 2 0 1 2 1 1 3 3 3 1 3 3 3 1 1 0 1 1 2 1 0 2 1 2 0 1\n",
      " 0 1 3 0 2 2 2 0 3 3 0 2 1 1 3 0 2 1 3 2 0 1 1 0 0 2 0 2 2 1 2 0 1 3 1 2 2\n",
      " 3 3 2 1 3 1 2 3 0 0 3 1 0 0 0 0 3 1 1 1 2 3 3 2 0 3 2 3 2 1 2 3 0 0 2 3 1\n",
      " 0 1 1 2 3 3 1 1 1 2 1 3 0 2 2 0 2 2 2 0 3 1 0 0 0 1 2 1 1 3 3 1 3 2 0 0 3\n",
      " 1 2 1 3 1 1 2 0 1 2 3 3 0 2 1 1 0 3 2 0 3 3 1 2 0 0 2 3 2 3 0 0 1 2 0 0 1\n",
      " 0 1 0 3 2 1 2 0 1 2 2 0 3 0 3 3 1 3 0 3 0 0 0 2 1 1 3 0 2 0 2 0 3 0 2 3 2\n",
      " 3 0 1 3 2 0 1 3 1 0 0 1 1 1 1 1 1 0 1 3 0 3 0 2 0 2 2 1 0 3 1 3 3 2 1 0 0\n",
      " 3 2 2 1 1 0 0 1 2 2 0 2 3 0 0 1 1 3 1 1 2 2 0 2 2 1 0 2 0 3 2 2 2 3 2 3 1\n",
      " 0 3 3 1 1 2 1 3 3 1 2 1 2 2 3 3 2 1 2 0 1 1 1 0 3 3 3 1 0 2 1 0 1 1 0 2 1\n",
      " 2 0 1 3 2 3 1 0 1 3 0 2 1 3 0 1 1 2 1 3 2 1 2 0 1 1 1 3 2 1 2 3 0 1 0 2 3\n",
      " 2 0 0 2 1 2 1 1 1 0 2 1 0 3 1 0 0 0 2]\n"
     ]
    }
   ],
   "source": [
    "ypred_m2 = m2.predict(x_te)\n",
    "print(ypred_m2)"
   ]
  },
  {
   "cell_type": "code",
   "execution_count": null,
   "metadata": {
    "colab": {
     "base_uri": "https://localhost:8080/"
    },
    "executionInfo": {
     "elapsed": 12,
     "status": "ok",
     "timestamp": 1651410216482,
     "user": {
      "displayName": "Moru Sai tirupathi",
      "userId": "08456069028187693579"
     },
     "user_tz": -330
    },
    "id": "-G0Yy3YXcBmC",
    "outputId": "5f58b78f-2eb7-4ee6-ef35-bf89284c3122"
   },
   "outputs": [
    {
     "name": "stdout",
     "output_type": "stream",
     "text": [
      "Training Score is 0.9466666666666667\n",
      "Testing Score is 0.926\n"
     ]
    }
   ],
   "source": [
    "print('Training Score is',m2.score(x_tr,y_tr))\n",
    "print('Testing Score is',m2.score(x_te,y_te))"
   ]
  },
  {
   "cell_type": "code",
   "execution_count": null,
   "metadata": {
    "colab": {
     "base_uri": "https://localhost:8080/"
    },
    "executionInfo": {
     "elapsed": 10,
     "status": "ok",
     "timestamp": 1651410216482,
     "user": {
      "displayName": "Moru Sai tirupathi",
      "userId": "08456069028187693579"
     },
     "user_tz": -330
    },
    "id": "1rjFa7WXcBjc",
    "outputId": "451df04b-675c-4d9b-b57a-537f66d851fb"
   },
   "outputs": [
    {
     "name": "stdout",
     "output_type": "stream",
     "text": [
      "[[115   1   0   0]\n",
      " [  6 126   3   0]\n",
      " [  0  11 118   6]\n",
      " [  0   0  10 104]]\n",
      "              precision    recall  f1-score   support\n",
      "\n",
      "           0       0.95      0.99      0.97       116\n",
      "           1       0.91      0.93      0.92       135\n",
      "           2       0.90      0.87      0.89       135\n",
      "           3       0.95      0.91      0.93       114\n",
      "\n",
      "    accuracy                           0.93       500\n",
      "   macro avg       0.93      0.93      0.93       500\n",
      "weighted avg       0.93      0.93      0.93       500\n",
      "\n"
     ]
    }
   ],
   "source": [
    "cm_m2 = confusion_matrix(y_te,ypred_m2)\n",
    "print(cm_m2)\n",
    "print(classification_report(y_te,ypred_m2))"
   ]
  },
  {
   "cell_type": "markdown",
   "metadata": {
    "id": "PjsqPMrGc3Mz"
   },
   "source": [
    "# c) DECISION TREE CLASSIFICATION ALGORITHM"
   ]
  },
  {
   "cell_type": "code",
   "execution_count": null,
   "metadata": {
    "id": "uRffzH3JcBgx"
   },
   "outputs": [],
   "source": [
    "from sklearn.tree import DecisionTreeClassifier"
   ]
  },
  {
   "cell_type": "code",
   "execution_count": null,
   "metadata": {
    "colab": {
     "base_uri": "https://localhost:8080/"
    },
    "executionInfo": {
     "elapsed": 11,
     "status": "ok",
     "timestamp": 1651410216484,
     "user": {
      "displayName": "Moru Sai tirupathi",
      "userId": "08456069028187693579"
     },
     "user_tz": -330
    },
    "id": "LJGY3u_EcBZo",
    "outputId": "d63fcf74-b26b-45c2-9852-0b9bd8cc19f0"
   },
   "outputs": [
    {
     "data": {
      "text/plain": [
       "DecisionTreeClassifier(max_depth=5, min_samples_split=15)"
      ]
     },
     "execution_count": 24,
     "metadata": {},
     "output_type": "execute_result"
    }
   ],
   "source": [
    "m3 = DecisionTreeClassifier(criterion='entropy',max_depth=5,min_samples_split=15)\n",
    "m3.fit(x_tr,y_tr)"
   ]
  },
  {
   "cell_type": "code",
   "execution_count": null,
   "metadata": {
    "colab": {
     "base_uri": "https://localhost:8080/"
    },
    "executionInfo": {
     "elapsed": 10,
     "status": "ok",
     "timestamp": 1651410216484,
     "user": {
      "displayName": "Moru Sai tirupathi",
      "userId": "08456069028187693579"
     },
     "user_tz": -330
    },
    "id": "WmmCQKNLh2gE",
    "outputId": "744f4d9a-19c1-4ef9-ab65-116320706e13"
   },
   "outputs": [
    {
     "name": "stdout",
     "output_type": "stream",
     "text": [
      "Training Score is 0.8813333333333333\n",
      "Testing Score is 0.794\n"
     ]
    }
   ],
   "source": [
    "print('Training Score is',m3.score(x_tr,y_tr))\n",
    "print('Testing Score is',m3.score(x_te,y_te))"
   ]
  },
  {
   "cell_type": "code",
   "execution_count": null,
   "metadata": {
    "colab": {
     "base_uri": "https://localhost:8080/"
    },
    "executionInfo": {
     "elapsed": 9,
     "status": "ok",
     "timestamp": 1651410216484,
     "user": {
      "displayName": "Moru Sai tirupathi",
      "userId": "08456069028187693579"
     },
     "user_tz": -330
    },
    "id": "7D3G_VbgcBKP",
    "outputId": "be1a5016-36e8-43e7-9445-901558ee0842"
   },
   "outputs": [
    {
     "name": "stdout",
     "output_type": "stream",
     "text": [
      "[3 0 2 1 1 2 3 2 1 1 2 0 1 3 1 0 1 0 1 3 2 0 3 2 2 2 3 2 2 0 3 0 0 3 1 0 3\n",
      " 2 2 0 0 2 1 2 2 0 3 3 1 3 3 0 1 2 2 2 3 0 2 2 0 3 2 0 0 0 2 0 1 3 2 3 2 1\n",
      " 2 1 1 1 1 0 1 2 2 1 3 2 1 2 0 1 2 2 2 3 0 2 2 1 1 2 3 3 0 0 0 2 2 2 1 2 1\n",
      " 2 1 3 0 3 0 1 2 1 0 0 2 0 1 1 1 1 2 2 3 1 3 3 2 1 2 0 1 1 1 1 0 2 1 2 0 0\n",
      " 0 1 3 0 2 2 1 1 3 3 0 1 1 1 3 0 2 0 3 2 1 1 1 0 0 2 0 2 2 1 2 0 2 3 0 2 2\n",
      " 2 2 2 1 2 1 2 3 0 0 3 1 0 0 0 1 2 1 1 1 2 3 3 1 0 3 3 3 2 1 2 3 0 0 2 3 2\n",
      " 0 1 1 2 3 3 1 1 1 3 1 2 0 2 3 1 2 2 2 0 3 1 0 0 0 1 2 2 1 3 3 1 2 2 0 0 3\n",
      " 1 2 1 3 1 1 2 0 1 2 2 2 0 2 1 1 0 3 2 1 3 3 1 2 0 0 1 2 2 3 1 0 1 1 0 0 1\n",
      " 1 1 0 3 2 1 2 0 2 2 1 0 2 0 3 3 1 3 0 2 0 0 0 1 1 1 3 0 2 0 2 0 2 0 2 3 2\n",
      " 2 0 1 3 2 0 1 3 1 1 0 1 1 2 1 1 2 0 1 3 0 3 0 2 0 2 2 2 0 3 2 3 3 1 1 0 0\n",
      " 3 1 2 1 1 0 0 2 2 2 0 1 3 0 0 1 1 2 1 1 2 2 0 2 1 1 0 2 0 3 2 2 1 3 2 3 1\n",
      " 1 3 3 1 1 2 1 3 3 1 1 1 1 1 3 2 2 1 2 0 1 1 0 1 3 3 3 0 0 1 1 0 1 1 0 2 1\n",
      " 2 0 1 3 2 3 1 0 1 3 1 2 1 3 0 2 1 2 1 3 1 1 2 0 1 1 2 3 1 1 2 3 0 1 0 1 3\n",
      " 3 0 0 2 1 2 1 2 1 0 2 1 0 2 1 0 1 1 2]\n"
     ]
    }
   ],
   "source": [
    "ypred_m3 = m3.predict(x_te)\n",
    "print(ypred_m3)"
   ]
  },
  {
   "cell_type": "code",
   "execution_count": null,
   "metadata": {
    "colab": {
     "base_uri": "https://localhost:8080/"
    },
    "executionInfo": {
     "elapsed": 9,
     "status": "ok",
     "timestamp": 1651410216485,
     "user": {
      "displayName": "Moru Sai tirupathi",
      "userId": "08456069028187693579"
     },
     "user_tz": -330
    },
    "id": "-OmScCRyh-Ux",
    "outputId": "8fbd0731-55c3-4dac-807b-47719ccba02f"
   },
   "outputs": [
    {
     "name": "stdout",
     "output_type": "stream",
     "text": [
      "[[104  12   0   0]\n",
      " [ 11 111  13   0]\n",
      " [  0  32  98   5]\n",
      " [  0   0  30  84]]\n",
      "              precision    recall  f1-score   support\n",
      "\n",
      "           0       0.90      0.90      0.90       116\n",
      "           1       0.72      0.82      0.77       135\n",
      "           2       0.70      0.73      0.71       135\n",
      "           3       0.94      0.74      0.83       114\n",
      "\n",
      "    accuracy                           0.79       500\n",
      "   macro avg       0.81      0.80      0.80       500\n",
      "weighted avg       0.81      0.79      0.80       500\n",
      "\n"
     ]
    }
   ],
   "source": [
    "cm_m3 = confusion_matrix(y_te,ypred_m3)\n",
    "print(cm_m3)\n",
    "print(classification_report(y_te,ypred_m3))"
   ]
  },
  {
   "cell_type": "code",
   "execution_count": null,
   "metadata": {
    "id": "HF3rH9MNr-2T"
   },
   "outputs": [],
   "source": [
    "from sklearn import tree"
   ]
  },
  {
   "cell_type": "code",
   "execution_count": null,
   "metadata": {
    "colab": {
     "base_uri": "https://localhost:8080/"
    },
    "executionInfo": {
     "elapsed": 7,
     "status": "ok",
     "timestamp": 1651410216485,
     "user": {
      "displayName": "Moru Sai tirupathi",
      "userId": "08456069028187693579"
     },
     "user_tz": -330
    },
    "id": "HWPB08ger-rn",
    "outputId": "2e63b410-3b16-462f-ed70-9e239fb472cc"
   },
   "outputs": [
    {
     "name": "stdout",
     "output_type": "stream",
     "text": [
      "Index(['battery_power', 'blue', 'clock_speed', 'dual_sim', 'fc', 'four_g',\n",
      "       'int_memory', 'm_dep', 'mobile_wt', 'n_cores', 'pc', 'px_height',\n",
      "       'px_width', 'ram', 'sc_h', 'sc_w', 'talk_time', 'three_g',\n",
      "       'touch_screen', 'wifi'],\n",
      "      dtype='object')\n",
      "['0', '1', '2', '3']\n"
     ]
    }
   ],
   "source": [
    "fn = x_tr.columns\n",
    "print(fn)\n",
    "cn = ['0','1','2','3']\n",
    "print(cn)"
   ]
  },
  {
   "cell_type": "code",
   "execution_count": null,
   "metadata": {
    "colab": {
     "base_uri": "https://localhost:8080/",
     "height": 846
    },
    "executionInfo": {
     "elapsed": 1789,
     "status": "ok",
     "timestamp": 1651410218268,
     "user": {
      "displayName": "Moru Sai tirupathi",
      "userId": "08456069028187693579"
     },
     "user_tz": -330
    },
    "id": "P1Tmd4ofschr",
    "outputId": "7fdb110e-9cee-4f54-f480-6aa5246dfd09"
   },
   "outputs": [
    {
     "data": {
      "image/png": "[encoded data removed]",
      "text/plain": [
       "<Figure size 1080x1080 with 1 Axes>"
      ]
     },
     "metadata": {
      "needs_background": "light"
     },
     "output_type": "display_data"
    }
   ],
   "source": [
    "plt.figure(figsize=(15,15))\n",
    "tree.plot_tree(m3,feature_names=fn,class_names=cn,filled=True)\n",
    "plt.show()"
   ]
  },
  {
   "cell_type": "markdown",
   "metadata": {
    "id": "me072SnOigxO"
   },
   "source": [
    "# d) RANDOM FOREST CLASSIFICATION ALGORITHM"
   ]
  },
  {
   "cell_type": "code",
   "execution_count": null,
   "metadata": {
    "id": "8vXHT6Oxipax"
   },
   "outputs": [],
   "source": [
    "from sklearn.ensemble import RandomForestClassifier "
   ]
  },
  {
   "cell_type": "code",
   "execution_count": null,
   "metadata": {
    "colab": {
     "base_uri": "https://localhost:8080/"
    },
    "executionInfo": {
     "elapsed": 954,
     "status": "ok",
     "timestamp": 1651410254905,
     "user": {
      "displayName": "Moru Sai tirupathi",
      "userId": "08456069028187693579"
     },
     "user_tz": -330
    },
    "id": "QMg4P_aysxWK",
    "outputId": "7173c340-a421-4747-bc10-afca409b16e7"
   },
   "outputs": [
    {
     "data": {
      "text/plain": [
       "RandomForestClassifier(criterion='entropy', max_depth=5, min_samples_split=15,\n",
       "                       n_estimators=80)"
      ]
     },
     "execution_count": 34,
     "metadata": {},
     "output_type": "execute_result"
    }
   ],
   "source": [
    "\n",
    "m4 = RandomForestClassifier(n_estimators=80,criterion='entropy',max_depth=5,min_samples_split=15)\n",
    "m4.fit(x_tr,y_tr)"
   ]
  },
  {
   "cell_type": "code",
   "execution_count": null,
   "metadata": {
    "colab": {
     "base_uri": "https://localhost:8080/"
    },
    "executionInfo": {
     "elapsed": 424,
     "status": "ok",
     "timestamp": 1651410259398,
     "user": {
      "displayName": "Moru Sai tirupathi",
      "userId": "08456069028187693579"
     },
     "user_tz": -330
    },
    "id": "ZrBZLcNmsxSu",
    "outputId": "ea810ea2-d6c6-4d83-bd53-22af1e9d3651"
   },
   "outputs": [
    {
     "name": "stdout",
     "output_type": "stream",
     "text": [
      "[3 0 1 2 0 3 3 2 2 2 2 1 0 3 1 0 1 0 1 3 1 0 3 3 2 2 3 1 2 0 3 0 0 3 1 0 3\n",
      " 3 1 0 0 3 1 3 3 0 3 3 1 3 3 0 1 2 2 2 3 1 2 1 0 3 2 0 0 0 2 0 1 3 3 3 2 1\n",
      " 1 1 1 1 1 0 1 2 2 1 3 3 1 2 0 1 2 1 1 3 0 1 2 1 1 2 3 3 0 0 0 2 2 3 1 3 1\n",
      " 3 1 3 0 3 0 1 2 1 0 0 2 0 1 1 0 0 3 3 3 1 3 3 3 0 2 0 1 1 1 2 0 2 1 3 0 1\n",
      " 0 0 3 0 3 2 2 1 3 3 0 2 1 1 3 0 2 0 3 2 0 1 1 0 0 3 0 2 2 1 3 0 2 3 0 2 2\n",
      " 3 3 2 1 3 1 3 3 0 0 3 1 0 0 0 0 3 1 1 1 2 3 3 2 0 3 3 3 2 1 2 3 0 0 3 3 2\n",
      " 0 1 1 3 3 3 0 1 1 3 1 3 0 2 3 0 2 2 1 0 3 1 0 0 0 1 2 1 1 3 3 1 3 2 0 0 3\n",
      " 1 2 1 3 1 1 2 0 1 2 3 3 0 2 1 1 0 3 2 0 3 3 1 2 0 0 1 3 2 3 0 0 1 1 0 0 1\n",
      " 0 1 0 3 2 1 2 0 1 2 1 0 3 0 3 2 2 2 0 3 0 0 0 2 1 1 3 0 2 0 2 0 3 0 2 3 2\n",
      " 3 0 1 3 2 0 1 3 1 0 0 1 0 1 1 1 2 0 1 3 0 3 0 2 0 2 2 1 0 3 1 3 3 2 1 0 0\n",
      " 3 1 2 0 1 0 0 2 2 2 0 2 3 0 0 1 1 3 2 2 2 2 1 1 1 2 0 2 0 3 1 2 1 3 3 3 1\n",
      " 0 3 3 2 1 2 1 3 3 1 2 1 2 1 3 3 2 0 2 0 0 1 1 0 3 3 3 0 0 1 1 0 1 0 0 2 1\n",
      " 3 0 1 3 2 3 1 0 1 3 1 2 1 3 0 2 1 3 0 3 1 1 2 0 1 1 2 3 2 2 2 3 0 1 0 2 3\n",
      " 2 0 0 2 1 2 1 1 1 0 1 1 0 3 1 0 0 0 2]\n"
     ]
    }
   ],
   "source": [
    "ypred_m4 = m4.predict(x_te)\n",
    "print(ypred_m4)"
   ]
  },
  {
   "cell_type": "code",
   "execution_count": null,
   "metadata": {
    "colab": {
     "base_uri": "https://localhost:8080/"
    },
    "executionInfo": {
     "elapsed": 623,
     "status": "ok",
     "timestamp": 1651410263283,
     "user": {
      "displayName": "Moru Sai tirupathi",
      "userId": "08456069028187693579"
     },
     "user_tz": -330
    },
    "id": "tvha1BBOsxQW",
    "outputId": "cc735d29-c6eb-47c9-9df6-1db6bf827269"
   },
   "outputs": [
    {
     "name": "stdout",
     "output_type": "stream",
     "text": [
      "Training Score is 0.8886666666666667\n",
      "Testing Score is 0.824\n"
     ]
    }
   ],
   "source": [
    "print('Training Score is',m4.score(x_tr,y_tr))\n",
    "print('Testing Score is',m4.score(x_te,y_te))"
   ]
  },
  {
   "cell_type": "code",
   "execution_count": null,
   "metadata": {
    "colab": {
     "base_uri": "https://localhost:8080/"
    },
    "executionInfo": {
     "elapsed": 438,
     "status": "ok",
     "timestamp": 1651410269836,
     "user": {
      "displayName": "Moru Sai tirupathi",
      "userId": "08456069028187693579"
     },
     "user_tz": -330
    },
    "id": "_tZAZyCysxN_",
    "outputId": "7710ea61-887b-43a7-b5c5-f5cb41644ebb"
   },
   "outputs": [
    {
     "name": "stdout",
     "output_type": "stream",
     "text": [
      "[[113   3   0   0]\n",
      " [ 21 100  14   0]\n",
      " [  0  32  88  15]\n",
      " [  0   0   3 111]]\n",
      "              precision    recall  f1-score   support\n",
      "\n",
      "           0       0.84      0.97      0.90       116\n",
      "           1       0.74      0.74      0.74       135\n",
      "           2       0.84      0.65      0.73       135\n",
      "           3       0.88      0.97      0.93       114\n",
      "\n",
      "    accuracy                           0.82       500\n",
      "   macro avg       0.83      0.84      0.83       500\n",
      "weighted avg       0.82      0.82      0.82       500\n",
      "\n"
     ]
    }
   ],
   "source": [
    "cm_m4=confusion_matrix(y_te,ypred_m4)\n",
    "print(cm_m4)\n",
    "print(classification_report(y_te,ypred_m4))"
   ]
  },
  {
   "cell_type": "code",
   "execution_count": null,
   "metadata": {
    "colab": {
     "base_uri": "https://localhost:8080/"
    },
    "executionInfo": {
     "elapsed": 527,
     "status": "ok",
     "timestamp": 1651410273522,
     "user": {
      "displayName": "Moru Sai tirupathi",
      "userId": "08456069028187693579"
     },
     "user_tz": -330
    },
    "id": "OXyDVKhgsxLF",
    "outputId": "ba2edec4-cdc6-4b10-a33e-12891c4b7b5b"
   },
   "outputs": [
    {
     "name": "stdout",
     "output_type": "stream",
     "text": [
      "Index(['battery_power', 'blue', 'clock_speed', 'dual_sim', 'fc', 'four_g',\n",
      "       'int_memory', 'm_dep', 'mobile_wt', 'n_cores', 'pc', 'px_height',\n",
      "       'px_width', 'ram', 'sc_h', 'sc_w', 'talk_time', 'three_g',\n",
      "       'touch_screen', 'wifi'],\n",
      "      dtype='object')\n",
      "['0', '1', '2', '3']\n"
     ]
    }
   ],
   "source": [
    "fn = x_tr.columns\n",
    "print(fn)\n",
    "cn=['0','1','2','3']\n",
    "print(cn)"
   ]
  },
  {
   "cell_type": "code",
   "execution_count": 62,
   "metadata": {
    "colab": {
     "base_uri": "https://localhost:8080/",
     "height": 846
    },
    "executionInfo": {
     "elapsed": 4423,
     "status": "ok",
     "timestamp": 1651412279045,
     "user": {
      "displayName": "Moru Sai tirupathi",
      "userId": "08456069028187693579"
     },
     "user_tz": -330
    },
    "id": "eyCzQRhatEA3",
    "outputId": "74691cbc-a2f2-4435-ec39-06f379565aaf"
   },
   "outputs": [
    {
     "data": {
      "image/png": "[encoded data removed]",
      "text/plain": [
       "<Figure size 1080x1080 with 1 Axes>"
      ]
     },
     "metadata": {
      "needs_background": "light"
     },
     "output_type": "display_data"
    }
   ],
   "source": [
    "plt.figure(figsize=(15,15))\n",
    "tree.plot_tree(m4.estimators_[0],feature_names=fn,class_names=cn,filled=True)\n",
    "plt.show()"
   ]
  },
  {
   "cell_type": "markdown",
   "metadata": {
    "id": "FjkUo-mgtU3O"
   },
   "source": [
    "# e)SVM Classifier with linear kernel"
   ]
  },
  {
   "cell_type": "code",
   "execution_count": null,
   "metadata": {
    "id": "d8kRN2c1tgQy"
   },
   "outputs": [],
   "source": [
    "from sklearn.svm import SVC"
   ]
  },
  {
   "cell_type": "code",
   "execution_count": null,
   "metadata": {
    "colab": {
     "base_uri": "https://localhost:8080/"
    },
    "executionInfo": {
     "elapsed": 7746,
     "status": "ok",
     "timestamp": 1651410288110,
     "user": {
      "displayName": "Moru Sai tirupathi",
      "userId": "08456069028187693579"
     },
     "user_tz": -330
    },
    "id": "FwxLVRJztg-T",
    "outputId": "55be1cf7-5df1-463d-f081-f7278b82d38f"
   },
   "outputs": [
    {
     "data": {
      "text/plain": [
       "SVC(C=1, kernel='linear')"
      ]
     },
     "execution_count": 41,
     "metadata": {},
     "output_type": "execute_result"
    }
   ],
   "source": [
    "m5=SVC(kernel='linear',C=1)\n",
    "m5.fit(x_tr,y_tr)"
   ]
  },
  {
   "cell_type": "code",
   "execution_count": null,
   "metadata": {
    "colab": {
     "base_uri": "https://localhost:8080/"
    },
    "executionInfo": {
     "elapsed": 16,
     "status": "ok",
     "timestamp": 1651410288111,
     "user": {
      "displayName": "Moru Sai tirupathi",
      "userId": "08456069028187693579"
     },
     "user_tz": -330
    },
    "id": "5ctkQCdstg67",
    "outputId": "ae8117c5-a0f6-40a0-9382-17b3c0ceb625"
   },
   "outputs": [
    {
     "name": "stdout",
     "output_type": "stream",
     "text": [
      "Training Score 0.9913333333333333\n",
      "Testing Score 0.974\n"
     ]
    }
   ],
   "source": [
    "print('Training Score',m5.score(x_tr,y_tr))\n",
    "print('Testing Score',m5.score(x_te,y_te))"
   ]
  },
  {
   "cell_type": "code",
   "execution_count": null,
   "metadata": {
    "colab": {
     "base_uri": "https://localhost:8080/"
    },
    "executionInfo": {
     "elapsed": 14,
     "status": "ok",
     "timestamp": 1651410288111,
     "user": {
      "displayName": "Moru Sai tirupathi",
      "userId": "08456069028187693579"
     },
     "user_tz": -330
    },
    "id": "itG4WWbDtg4I",
    "outputId": "283cb948-5c50-4d68-f656-b573a3c014e0"
   },
   "outputs": [
    {
     "name": "stdout",
     "output_type": "stream",
     "text": [
      "[3 0 2 1 0 3 3 2 2 2 2 1 1 3 1 0 2 0 1 3 1 0 3 2 2 3 3 2 2 0 3 0 0 3 1 0 3\n",
      " 3 2 0 0 3 1 3 2 0 3 3 1 3 3 0 1 2 2 2 3 0 2 2 0 3 2 1 0 0 2 0 1 3 3 3 2 1\n",
      " 2 1 2 1 1 0 1 2 2 1 3 3 1 2 0 1 2 2 2 3 0 2 2 1 0 2 3 3 1 1 0 2 2 3 2 3 1\n",
      " 2 2 3 0 3 0 1 2 1 0 0 1 0 1 2 0 1 2 2 3 2 3 3 3 1 2 0 1 1 2 1 0 2 1 2 0 1\n",
      " 0 1 3 0 3 2 2 1 3 3 0 2 1 1 3 0 2 0 3 2 1 1 1 0 0 3 0 2 2 1 2 0 1 3 1 2 2\n",
      " 3 3 2 1 3 1 3 3 0 0 3 1 0 0 0 0 3 1 1 1 2 3 3 2 0 3 3 3 2 1 2 3 0 0 2 3 1\n",
      " 0 1 1 2 3 3 1 1 1 2 1 3 0 2 2 0 2 2 2 0 3 1 0 0 1 2 3 1 1 3 3 1 3 2 0 0 3\n",
      " 1 2 2 3 1 1 2 0 1 2 3 3 0 2 1 1 0 3 2 0 3 3 1 2 0 0 2 3 2 3 0 0 1 2 0 0 1\n",
      " 1 1 0 3 2 1 2 0 1 2 2 0 3 0 3 2 1 2 0 3 0 0 0 2 1 1 3 0 2 0 2 0 3 0 2 3 2\n",
      " 3 0 1 3 2 0 1 3 1 0 0 1 1 1 1 1 2 0 1 3 0 3 0 2 0 2 2 1 0 3 1 3 3 2 1 0 0\n",
      " 3 2 2 1 1 0 0 1 2 2 0 1 3 0 0 1 1 3 1 1 2 2 0 2 2 1 0 2 0 3 1 2 1 3 3 3 1\n",
      " 0 3 3 1 1 2 1 3 3 1 1 1 2 2 3 3 2 1 2 0 1 1 1 0 3 3 3 1 0 2 2 0 1 0 0 2 1\n",
      " 2 0 1 3 2 3 1 0 1 3 1 2 2 3 0 2 1 2 1 3 2 1 2 0 2 1 1 3 2 1 2 3 0 1 0 2 3\n",
      " 2 0 0 2 1 2 1 2 1 0 2 1 0 3 1 0 0 0 2]\n"
     ]
    }
   ],
   "source": [
    "ypred_m5 = m5.predict(x_te)\n",
    "print(ypred_m5)"
   ]
  },
  {
   "cell_type": "code",
   "execution_count": null,
   "metadata": {
    "colab": {
     "base_uri": "https://localhost:8080/"
    },
    "executionInfo": {
     "elapsed": 10,
     "status": "ok",
     "timestamp": 1651410288111,
     "user": {
      "displayName": "Moru Sai tirupathi",
      "userId": "08456069028187693579"
     },
     "user_tz": -330
    },
    "id": "sYAEibk6tsuI",
    "outputId": "ab094890-d139-4cfd-c5cb-315d13c22f73"
   },
   "outputs": [
    {
     "name": "stdout",
     "output_type": "stream",
     "text": [
      "[[116   0   0   0]\n",
      " [  3 129   3   0]\n",
      " [  0   4 129   2]\n",
      " [  0   0   1 113]]\n",
      "              precision    recall  f1-score   support\n",
      "\n",
      "           0       0.97      1.00      0.99       116\n",
      "           1       0.97      0.96      0.96       135\n",
      "           2       0.97      0.96      0.96       135\n",
      "           3       0.98      0.99      0.99       114\n",
      "\n",
      "    accuracy                           0.97       500\n",
      "   macro avg       0.97      0.98      0.97       500\n",
      "weighted avg       0.97      0.97      0.97       500\n",
      "\n"
     ]
    }
   ],
   "source": [
    "cm_m5 = confusion_matrix(y_te,ypred_m5)\n",
    "print(cm_m5)\n",
    "print(classification_report(y_te,ypred_m5,zero_division=0))"
   ]
  },
  {
   "cell_type": "code",
   "execution_count": null,
   "metadata": {
    "id": "pmMySn1avDAL"
   },
   "outputs": [],
   "source": [
    "# model with the best accuracy"
   ]
  },
  {
   "cell_type": "code",
   "execution_count": null,
   "metadata": {
    "colab": {
     "base_uri": "https://localhost:8080/"
    },
    "executionInfo": {
     "elapsed": 454,
     "status": "ok",
     "timestamp": 1651411511388,
     "user": {
      "displayName": "Moru Sai tirupathi",
      "userId": "08456069028187693579"
     },
     "user_tz": -330
    },
    "id": "b9gUzPHxvNCd",
    "outputId": "b7acadff-32fb-4a43-e503-d484ae3b56e2"
   },
   "outputs": [
    {
     "name": "stdout",
     "output_type": "stream",
     "text": [
      "{'Log_reg': 0.756, 'KNN': 0.926, 'DT': 0.794, 'RN': 0.824, 'SVM': 0.974}\n"
     ]
    }
   ],
   "source": [
    "acc = {'Log_reg':m1.score(x_te,y_te),'KNN':m2.score(x_te,y_te),'DT':m3.score(x_te,y_te),\n",
    "                   'RN':m4.score(x_te,y_te),'SVM':m5.score(x_te,y_te)}\n",
    "print(acc)"
   ]
  },
  {
   "cell_type": "code",
   "execution_count": null,
   "metadata": {
    "colab": {
     "base_uri": "https://localhost:8080/",
     "height": 296
    },
    "executionInfo": {
     "elapsed": 551,
     "status": "ok",
     "timestamp": 1651411991944,
     "user": {
      "displayName": "Moru Sai tirupathi",
      "userId": "08456069028187693579"
     },
     "user_tz": -330
    },
    "id": "HDSURe_6zQ2L",
    "outputId": "c28abe82-2208-444c-e55a-2f892221861d"
   },
   "outputs": [
    {
     "data": {
      "image/png": "[encoded data removed]",
      "text/plain": [
       "<Figure size 432x288 with 1 Axes>"
      ]
     },
     "metadata": {
      "needs_background": "light"
     },
     "output_type": "display_data"
    }
   ],
   "source": [
    "plt.bar(acc.keys(),[i*100 for i in acc.values()],label='Accuracy of Different Models')\n",
    "plt.xlabel('ML Models')\n",
    "plt.ylabel('Accuracy in Percentage')\n",
    "plt.title('ML Models with their Accuracy')\n",
    "plt.grid()\n",
    "plt.legend()\n",
    "plt.show()"
   ]
  },
  {
   "cell_type": "markdown",
   "metadata": {
    "id": "-nOoVTbP01Gm"
   },
   "source": [
    "# **THEREFORE SUPPORT VECTOR MACHINES ALGORITHM RETURNS THE HIGHEST ACCURACY**"
   ]
  }
 ],
 "metadata": {
  "colab": {
   "authorship_tag": "ABX9TyPUgHm1SBlJ2Tg16R3MJi++",
   "collapsed_sections": [],
   "name": "Minor_Project.ipynb",
   "provenance": []
  },
  "kernelspec": {
   "display_name": "Python 3 (ipykernel)",
   "language": "python",
   "name": "python3"
  },
  "language_info": {
   "codemirror_mode": {
    "name": "ipython",
    "version": 3
   },
   "file_extension": ".py",
   "mimetype": "text/x-python",
   "name": "python",
   "nbconvert_exporter": "python",
   "pygments_lexer": "ipython3",
   "version": "3.9.12"
  }
 },
 "nbformat": 4,
 "nbformat_minor": 1
}
